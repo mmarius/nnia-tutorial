{
 "cells": [
  {
   "cell_type": "markdown",
   "metadata": {},
   "source": [
    "# NNIA: Tutorial 1 - 07.11.2017"
   ]
  },
  {
   "cell_type": "markdown",
   "metadata": {},
   "source": [
    "## Organizational things\n",
    "### General\n",
    "* Please use correct email (s8mmandr@stud.uni-saarland.de), subjects, file names, etc. We use automatic scripts to download and send you graded submissions back (thanks Marius!). If you don't follow the submission guidelines, then your homework can be lost.\n",
    "* Please send as a submission a single .ipynb. Not a python file!\n",
    "* If you don't agree with the grading, we can always discuss it.\n",
    "* You can earn points for attending tutorial (+2 points) and for presenting solution (+2 points, but up to 2 times).\n",
    "* The workload estimate for a usual sheet (maybe not the 1-st one) is 7-10 hours, based on the assumption that you work in teams. Who is not working in teams?\n",
    "* Your background? CoLi, CS, others?\n",
    "\n",
    "\n",
    "### Next assignment\n",
    "* It is not mandatory to use LaTeX for the next assignment. You can also upload images into your jupyter notebook. But it's a good opportunity to practice for you (e.g. for your seminars / papers / master thesis) and convenient for us.\n",
    "* Even if you don't have a good background in linear algebra - you should read it up, sheet 2 is doable.\n",
    "* Next week we have no assignment to discuss (due to holiday week). Should we still meet for some questions? Or just email me or visit me (**E1.1 room 220.1**) after an appointment (to be sure that I'm in the office)?\n",
    "\n",
    "\n",
    "### Quiz\n",
    "* 21 November - be prepared! Make sure that if you divided labor in your team, you still explain to other team members your solution, so everyone knows all the content of a homework.\n",
    "\n",
    "\n"
   ]
  },
  {
   "cell_type": "markdown",
   "metadata": {},
   "source": []
  },
  {
   "cell_type": "markdown",
   "metadata": {},
   "source": [
    "### 0. Markdown [Cheatsheet](https://github.com/adam-p/markdown-here/wiki/Markdown-Cheatsheet)"
   ]
  },
  {
   "cell_type": "markdown",
   "metadata": {},
   "source": [
    "### 1. Jupyter notebook features"
   ]
  },
  {
   "cell_type": "markdown",
   "metadata": {},
   "source": [
    "#### Shortcuts"
   ]
  },
  {
   "cell_type": "markdown",
   "metadata": {},
   "source": [
    "Jupyter notebooks can be run in two modes: \n",
    "- Command mode \n",
    "- Edit mode"
   ]
  },
  {
   "cell_type": "markdown",
   "metadata": {},
   "source": [
    "Following are some keyboard shortcuts commonly used in command mode.\n",
    "\n",
    "Command | Action |\n",
    "------------- |:------------- |\n",
    "Enter | Enter into edit mode \n",
    "[Ctrl / Cmd] + Enter | Run highlighted cell \n",
    "Shift + Enter | Run highlighted cell, select cell below \n",
    "[Alt / Opt] + Enter | Run highlighted cell, insert cell below \n",
    "Y | Change cell to coding mode \n",
    "M | Change cell to markdown mode \n",
    "Up / K | Select cell above current cell \n",
    "Down / J | Select cell below current cell \n",
    "A / B | Insert cell above / below \n",
    "X | Cut selected cell \n",
    "[Ctrl / Cmd] + S | Save and checkpoint notebook "
   ]
  },
  {
   "cell_type": "markdown",
   "metadata": {},
   "source": [
    "#### $\\LaTeX$ support"
   ]
  },
  {
   "cell_type": "markdown",
   "metadata": {},
   "source": [
    "You can include $\\LaTeX$ within your markdown cells which will be rendered by *MathJax*."
   ]
  },
  {
   "cell_type": "markdown",
   "metadata": {},
   "source": [
    "$$\\sum_{i=0}^n i^2 = \\frac{(n^2+n)(2n+1)}{6}$$"
   ]
  },
  {
   "cell_type": "markdown",
   "metadata": {},
   "source": [
    "$$ \\alpha, \\beta, \\dots, \\Omega $$"
   ]
  },
  {
   "cell_type": "markdown",
   "metadata": {},
   "source": [
    "$$ \\Biggl(\\biggl(\\Bigl(\\bigl((x)\\bigr)\\Bigr)\\biggr)\\Biggr) $$"
   ]
  },
  {
   "cell_type": "markdown",
   "metadata": {},
   "source": [
    "$$\n",
    "        \\begin{bmatrix}\n",
    "        1 & x & x^2 \\\\\n",
    "        1 & y & y^2 \\\\\n",
    "        1 & z & z^2 \\\\\n",
    "        \\end{bmatrix}\n",
    "$$"
   ]
  },
  {
   "cell_type": "markdown",
   "metadata": {},
   "source": [
    "For more examples check this [reference](https://math.meta.stackexchange.com/questions/5020/mathjax-basic-tutorial-and-quick-reference)."
   ]
  },
  {
   "cell_type": "markdown",
   "metadata": {},
   "source": [
    "#### Displaying Images in Jupyter\n",
    "\n",
    "Images can be displayed in a *notebook* using the ```![ImageCaption](ImagePath)```. The image caption is displayed if the image is not available in the path specified.\n",
    "\n",
    "<br/>\n",
    "![Jupyter Logo](./jupyter.jpg)\n",
    "<br/>"
   ]
  },
  {
   "cell_type": "markdown",
   "metadata": {},
   "source": [
    "### 2. Introducing numpy"
   ]
  },
  {
   "cell_type": "code",
   "execution_count": 10,
   "metadata": {
    "collapsed": true
   },
   "outputs": [],
   "source": [
    "import numpy as np"
   ]
  },
  {
   "cell_type": "markdown",
   "metadata": {},
   "source": [
    "Quoting the project homepage:\n",
    "\n",
    ">NumPy is the fundamental package for scientific computing with Python. It contains among other things:\n",
    "> - **a powerful N-dimensional array object**\n",
    "> - **sophisticated (broadcasting) functions**\n",
    "> - tools for integrating C/C++ and Fortran code\n",
    "> - useful linear algebra, Fourier transform, and random number capabilities"
   ]
  },
  {
   "cell_type": "markdown",
   "metadata": {},
   "source": [
    "See [this](https://www.safaribooksonline.com/library/view/python-for-data/9781449323592/ch04.html) book chapter for a nice introduction to numpy."
   ]
  },
  {
   "cell_type": "markdown",
   "metadata": {},
   "source": [
    "#### Vectorization"
   ]
  },
  {
   "cell_type": "markdown",
   "metadata": {},
   "source": [
    "Refers to arithmetic operations performed using (equally sized) arrays."
   ]
  },
  {
   "cell_type": "code",
   "execution_count": 11,
   "metadata": {},
   "outputs": [
    {
     "name": "stdout",
     "output_type": "stream",
     "text": [
      "[ 1.  1.  1.  1.  1.  1.  1.  1.  1.  1.]\n"
     ]
    }
   ],
   "source": [
    "a = np.ones(10)\n",
    "b = np.zeros(10)\n",
    "s = a + b\n",
    "print(s)"
   ]
  },
  {
   "cell_type": "code",
   "execution_count": 51,
   "metadata": {},
   "outputs": [
    {
     "name": "stdout",
     "output_type": "stream",
     "text": [
      "Sum: 27.69\n",
      "Mean: 0.00\n",
      "Min: -3.80\n",
      "Max: 3.35\n"
     ]
    }
   ],
   "source": [
    "tmp = np.random.normal(size=10000)\n",
    "print('Sum: {:.2f}'.format(np.sum(tmp)))\n",
    "print('Mean: {:.2f}'.format(np.mean(tmp)))\n",
    "print('Min: {:.2f}'.format(np.min(tmp)))\n",
    "print('Max: {:.2f}'.format(np.max(tmp)))"
   ]
  },
  {
   "cell_type": "code",
   "execution_count": 52,
   "metadata": {},
   "outputs": [
    {
     "data": {
      "image/png": "[encoded data removed]",
      "text/plain": [
       "<matplotlib.figure.Figure at 0x7f99745a0080>"
      ]
     },
     "metadata": {},
     "output_type": "display_data"
    }
   ],
   "source": [
    "%matplotlib inline\n",
    "import matplotlib.pyplot as plt\n",
    "plt.hist(tmp, bins=200);"
   ]
  },
  {
   "cell_type": "markdown",
   "metadata": {},
   "source": [
    "#### Broadcasting"
   ]
  },
  {
   "cell_type": "markdown",
   "metadata": {},
   "source": [
    "> Broadcasting describes how numpy treats arrays with different shapes during arithmetic operations.\n",
    "\n",
    "See [here](https://docs.scipy.org/doc/numpy-1.13.0/user/basics.broadcasting.html) for more detailed information."
   ]
  },
  {
   "cell_type": "markdown",
   "metadata": {},
   "source": [
    "In short, broadcasting allows us the following kind of computations:"
   ]
  },
  {
   "cell_type": "code",
   "execution_count": 50,
   "metadata": {},
   "outputs": [
    {
     "name": "stdout",
     "output_type": "stream",
     "text": [
      "[ 1.  2.  3.] [[ 1.]\n",
      " [ 2.]\n",
      " [ 3.]] [[ 1.]\n",
      " [ 2.]\n",
      " [ 3.]]\n",
      "None\n",
      "14.0\n",
      "[[ 1.  2.  3.]\n",
      " [ 2.  4.  6.]\n",
      " [ 3.  6.  9.]]\n"
     ]
    }
   ],
   "source": [
    "a = np.array([1.0, 2.0, 3.0])\n",
    "b = 3.0\n",
    "c = a * b\n",
    "# print(c)\n",
    "\n",
    "print(a, a[:, None], a[:, np.newaxis])\n",
    "print(np.newaxis)\n",
    "\n",
    "a2 = a[:, np.newaxis]\n",
    "a2 * a2.T  # outer product\n",
    "a2.T * a2  # inner product\n",
    "print(np.dot(a, a))\n",
    "print(np.dot(a2, a2.T))\n",
    "\n"
   ]
  },
  {
   "cell_type": "markdown",
   "metadata": {},
   "source": [
    "> **Broadcasting provides a means of vectorizing array operations so that looping occurs in C instead of Python.**"
   ]
  },
  {
   "cell_type": "markdown",
   "metadata": {},
   "source": [
    "#### Conclusion: Try to avoid loops when using numpy"
   ]
  },
  {
   "cell_type": "markdown",
   "metadata": {},
   "source": [
    "If you let numpy take care of loops, your code will run much faster."
   ]
  },
  {
   "cell_type": "code",
   "execution_count": 53,
   "metadata": {},
   "outputs": [
    {
     "name": "stdout",
     "output_type": "stream",
     "text": [
      "63.2 ms ± 2.61 ms per loop (mean ± std. dev. of 10 runs, 10 loops each)\n"
     ]
    }
   ],
   "source": [
    "%%timeit -r 10 -n 10\n",
    "a = np.arange(10000)\n",
    "s = 0\n",
    "for element in a:\n",
    "    s += a"
   ]
  },
  {
   "cell_type": "code",
   "execution_count": 54,
   "metadata": {},
   "outputs": [
    {
     "name": "stdout",
     "output_type": "stream",
     "text": [
      "12.3 µs ± 1.73 µs per loop (mean ± std. dev. of 10 runs, 10 loops each)\n"
     ]
    }
   ],
   "source": [
    "%%timeit -r 10 -n 10\n",
    "s = np.sum(a)"
   ]
  },
  {
   "cell_type": "markdown",
   "metadata": {},
   "source": [
    "For a more evolved discussion see [here](https://stackoverflow.com/questions/41325427/numpy-ufuncs-speed-vs-for-loop-speed)."
   ]
  },
  {
   "cell_type": "markdown",
   "metadata": {},
   "source": [
    "### 3. Recap: Linear Regression"
   ]
  },
  {
   "cell_type": "markdown",
   "metadata": {},
   "source": [
    "#### Simple Linear Regression Problem"
   ]
  },
  {
   "cell_type": "markdown",
   "metadata": {},
   "source": [
    "All we know is that the **true** relationship between $x \\in \\mathbb{R}$ and $y \\in \\mathbb{R}$ is of the following form $ y = f(x) + \\epsilon$, where $\\epsilon$ is the (mean-zero) random error term."
   ]
  },
  {
   "cell_type": "markdown",
   "metadata": {},
   "source": [
    "What we do in linear regression is to assume that $f(x)$ is a **linear function**. Hence, we can write the relationship between $x$ and $y$ as "
   ]
  },
  {
   "cell_type": "markdown",
   "metadata": {},
   "source": [
    "$$ y = \\beta_0 + \\beta_1 * x + \\epsilon$$"
   ]
  },
  {
   "cell_type": "markdown",
   "metadata": {},
   "source": [
    "#### Estimating $\\beta_0$ and $\\beta_1$"
   ]
  },
  {
   "cell_type": "markdown",
   "metadata": {},
   "source": [
    "Since the coefficients of the true relationship is unknown, the best we can do is estimate the model coefficients."
   ]
  },
  {
   "cell_type": "markdown",
   "metadata": {},
   "source": [
    "$$ \\hat{y} = \\hat{\\beta}_0 + \\hat{\\beta}_1 * x$$"
   ]
  },
  {
   "cell_type": "markdown",
   "metadata": {},
   "source": [
    "**Question**: How do we estimate the coefficients?"
   ]
  },
  {
   "cell_type": "markdown",
   "metadata": {},
   "source": [
    "Let $\\hat{y}$ be the predicted output and $y$ be the true output. \n",
    "\n",
    "- Define $r_i = \\hat{y}_i - y_i$ (residual)\n",
    "- Define $RSS = \\sum_{i=0}^n r_i^2$ (residual sum of squares)"
   ]
  },
  {
   "cell_type": "markdown",
   "metadata": {},
   "source": [
    "#### Fitting the model"
   ]
  },
  {
   "cell_type": "markdown",
   "metadata": {},
   "source": [
    "Task: Find paramters $\\hat{\\beta}_0$ and $\\hat{\\beta}_1$ that minimize $RSS$."
   ]
  },
  {
   "cell_type": "markdown",
   "metadata": {},
   "source": [
    "#### Closed form solution"
   ]
  },
  {
   "cell_type": "markdown",
   "metadata": {},
   "source": [
    "$$\\hat{\\beta}_0 = \\bar{y} - \\hat{\\beta}_1 * \\bar{x}$$"
   ]
  },
  {
   "cell_type": "markdown",
   "metadata": {},
   "source": [
    "$$\\hat{\\beta}_1 = \\frac{\\sum_{i=0}^n (x_i - \\bar{x})(y_i - \\bar{y})}{\\sum_{i=0}^n (x_i - \\bar{x})^2}$$"
   ]
  },
  {
   "cell_type": "markdown",
   "metadata": {},
   "source": [
    "*Derivation on blackboard.*"
   ]
  },
  {
   "cell_type": "markdown",
   "metadata": {},
   "source": [
    "### Normal equations for multiple linear regression"
   ]
  },
  {
   "cell_type": "markdown",
   "metadata": {},
   "source": [
    "$$RSS = (y - \\mathbf{X}\\beta)^T(y - \\mathbf{X}\\beta)$$"
   ]
  },
  {
   "cell_type": "markdown",
   "metadata": {},
   "source": [
    "$$ \\mathbf{X} \\in \\mathbb{R}^{n~\\times~(p + 1)} $$\n",
    "$$ y \\in \\mathbb{R}^{n} $$\n",
    "$$ \\beta \\in \\mathbb{R}^{p+1} $$"
   ]
  },
  {
   "cell_type": "markdown",
   "metadata": {},
   "source": [
    "Differentiating with respect to $\\beta$ we obtain the solution"
   ]
  },
  {
   "cell_type": "markdown",
   "metadata": {},
   "source": [
    "$$ \\beta = (\\mathbf{X}^T\\mathbf{X})^{-1}\\mathbf{X}^Ty$$ "
   ]
  }
 ],
 "metadata": {
  "kernelspec": {
   "display_name": "Python 3",
   "language": "python",
   "name": "python3"
  },
  "language_info": {
   "codemirror_mode": {
    "name": "ipython",
    "version": 3
   },
   "file_extension": ".py",
   "mimetype": "text/x-python",
   "name": "python",
   "nbconvert_exporter": "python",
   "pygments_lexer": "ipython3",
   "version": "3.6.2"
  }
 },
 "nbformat": 4,
 "nbformat_minor": 2
}
