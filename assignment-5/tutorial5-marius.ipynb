{
 "cells": [
  {
   "cell_type": "markdown",
   "metadata": {},
   "source": [
    "# NNIA: Tutorial 5 - 00.12.2017"
   ]
  },
  {
   "cell_type": "code",
   "execution_count": 1,
   "metadata": {},
   "outputs": [
    {
     "data": {
      "text/html": [
       "<style>.container { width:100% !important; }</style>"
      ],
      "text/plain": [
       "<IPython.core.display.HTML object>"
      ]
     },
     "metadata": {},
     "output_type": "display_data"
    }
   ],
   "source": [
    "# Set notebook to full width\n",
    "from IPython.core.display import display, HTML\n",
    "display(HTML(\"<style>.container { width:100% !important; }</style>\"))"
   ]
  },
  {
   "cell_type": "markdown",
   "metadata": {},
   "source": [
    "## Organizational things\n",
    "### General\n",
    "* How was the quiz?"
   ]
  },
  {
   "cell_type": "markdown",
   "metadata": {},
   "source": [
    "## Assignment-5"
   ]
  },
  {
   "cell_type": "markdown",
   "metadata": {},
   "source": [
    "#### 1. [Practicing Backpropagation](http://cs231n.github.io/optimization-2/#grad)"
   ]
  },
  {
   "cell_type": "markdown",
   "metadata": {},
   "source": [
    "Given the following function $$ f(x, y) = \\frac{x + \\sigma(y)}{\\sigma(x) + (x+y)^2}$$ with $\\sigma(x) = \\frac{1}{1+e^{-x}}$ and $x, y \\in \\mathbb{R}$."
   ]
  },
  {
   "cell_type": "code",
   "execution_count": 36,
   "metadata": {},
   "outputs": [],
   "source": [
    "import math\n",
    "\n",
    "# Define primitives\n",
    "\n",
    "def add(x, y):\n",
    "    return x + y\n",
    "\n",
    "def mult(x, y):\n",
    "    return x * y\n",
    "\n",
    "def square(x):\n",
    "    return x ** 2\n",
    "\n",
    "def exp(x):\n",
    "    return math.exp(x)\n",
    "\n",
    "def divide(x):\n",
    "    return 1 / x\n",
    "\n",
    "def sigmoid(x):\n",
    "    return divide(add(1, exp(mult(-1, x))))"
   ]
  },
  {
   "cell_type": "code",
   "execution_count": 39,
   "metadata": {},
   "outputs": [],
   "source": [
    "# Define local derivatives of the primitives\n",
    "\n",
    "def dadd(x, y):\n",
    "    return 1.0\n",
    "\n",
    "def dmult(x, y, dx, dy):\n",
    "    return x * dy + y * dx\n",
    "\n",
    "def dmult_left(x, y):\n",
    "    return y\n",
    "\n",
    "def dmult_right(x, y):\n",
    "    return x\n",
    "\n",
    "def dsquare(x):\n",
    "    return 2 * x\n",
    "\n",
    "def dexp(x):\n",
    "    return exp(x)\n",
    "\n",
    "def ddivide(x):\n",
    "    return -1.0 * (1.0 / x ** 2)\n",
    "\n",
    "def dsigmoid(x):\n",
    "    return sigmoid(x) * (1.0 - sigmoid(x))"
   ]
  },
  {
   "cell_type": "code",
   "execution_count": 28,
   "metadata": {},
   "outputs": [
    {
     "name": "stdout",
     "output_type": "stream",
     "text": [
      "{'0': 0.9525741268224334, '1': 2.9525741268224333, '2': 0.8807970779778823, '3': 5, '4': 25, '5': 25.88079707797788, '6': 0.03863868631970789, '7': 0.11408358552197742}\n"
     ]
    }
   ],
   "source": [
    "# Compute forward pass for specific values of x and y\n",
    "x = 2\n",
    "y = 3\n",
    "\n",
    "def forward(x, y):\n",
    "    m = {}\n",
    "    \n",
    "    # Numerator\n",
    "    m['0'] = sigmoid(y) # sigmoid(y)\n",
    "    m['1'] = add(x, m['0']) # numerator\n",
    "    \n",
    "    # Denominator\n",
    "    m['2'] = sigmoid(x) # sigmoid(x)\n",
    "    m['3'] = add(x, y) # (x + y)\n",
    "    m['4'] = square(m['3']) # (x + y)^2\n",
    "    m['5'] = add(m['2'], m['4']) # denominator\n",
    "    \n",
    "    # f\n",
    "    m['6'] = divide(m['5']) # 1 / denominator\n",
    "    m['7'] = mult(m['1'], m['6']) # numerator * denominator\n",
    "    \n",
    "    return m\n",
    "\n",
    "evaluate_forward = forward(x, y)\n",
    "print(evaluate_forward)"
   ]
  },
  {
   "cell_type": "code",
   "execution_count": 81,
   "metadata": {},
   "outputs": [
    {
     "name": "stdout",
     "output_type": "stream",
     "text": [
      "{'0': 1.0, '1': 0.03863868631970789, '2': 0.03863868631970789, '3': 0.03863868631970789, '4': 0.0017455667843148878, '5': 2.9525741268224333, '6': -0.004408039875211255, '7': -0.004408039875211255, '8': -0.004408039875211255, '9': -0.00046281591110005553, '10': -0.044080398752112546, '11': -0.044080398752112546, '12': -0.044080398752112546, '13': -0.00590452834350471, '14': -0.04233483196779766}\n"
     ]
    }
   ],
   "source": [
    "# Compute backward pass\n",
    "\n",
    "def backward(x, y):\n",
    "    \n",
    "    f = forward(x, y)\n",
    "    m = {}\n",
    "    \n",
    "    m['0'] = 1.0 # df/df\n",
    "    \n",
    "    # df/dnum\n",
    "    m['1'] = m['0'] * f['6'] # df/d1 = df/df * df/d1 \n",
    "    m['2'] = m['1'] * 1.0 # df/dx = df/df * df/d1 * d1/dx\n",
    "    m['3'] = m['1'] * 1.0 # df/d0 = df/df * df/d1 * d1/d0\n",
    "    m['4'] = m['3'] * 1.0 * (sigmoid(y) * (1 - sigmoid(y))) # df/dy = df/df * df/d1 * d1/d0 * d0/dy\n",
    "    \n",
    "    # df/ddom\n",
    "    m['5'] = m['0'] * f['1'] # df/d6 = df/df * df/d6\n",
    "    m['6'] = m['5'] * (-1.0 * (1.0 / f['5'] ** 2)) # df/d5 = df/df * df/d6 * d6/d5\n",
    "    m['7'] = m['6'] * 1.0  # df/d2 = df/df * df/d6 * d6/d5 * d5/d2\n",
    "    m['8'] = m['6'] * 1.0  # df/d4 = df/df * df/d6 * d6/d5 * d5/d4\n",
    "    m['9'] = m['7'] * (sigmoid(x) * (1.0 - sigmoid(x)))  # df/dx = df/df * df/d6 * d6/d5 * d5/d2 * d2/dx\n",
    "    m['10'] = m['8'] * 2 * f['3'] # df/d3 = df/df * df/d6 * d6/d5 * d5/d4 * d4/d3\n",
    "    m['11'] = m['10'] * 1.0 # df/dx = df/df * df/d6 * d6/d5 * d5/d4 * d4/d3 * d3/dx\n",
    "    m['12'] = m['10'] * 1.0 # df/dy = df/df * df/d6 * d6/d5 * d5/d4 * d4/d3 * d3/dy\n",
    "    \n",
    "    # Add up results for df/dx and df/dy\n",
    "    m['13'] = m['2'] + m['9'] + m['11']\n",
    "    m['14'] = m['4'] + m['12']\n",
    "    \n",
    "    return m\n",
    "\n",
    "evaluate_backward = backward(x, y)\n",
    "print(evaluate_backward)"
   ]
  },
  {
   "cell_type": "code",
   "execution_count": 82,
   "metadata": {},
   "outputs": [
    {
     "name": "stdout",
     "output_type": "stream",
     "text": [
      "{'0': 1.0, '1': 0.03863868631970789, '2': 0.03863868631970789, '3': 0.03863868631970789, '4': 0.0017455667843148878, '5': 2.9525741268224333, '6': -0.004408039875211255, '7': -0.004408039875211255, '8': -0.004408039875211255, '9': -0.00046281591110005553, '10': -0.044080398752112546, '11': -0.044080398752112546, '12': -0.044080398752112546, '13': -0.00590452834350471, '14': -0.04233483196779766}\n"
     ]
    }
   ],
   "source": [
    "# Compute backward pass\n",
    "\n",
    "def backward2(x, y):\n",
    "    \n",
    "    f = forward(x, y)\n",
    "    m = {}\n",
    "    \n",
    "    m['0'] = 1.0 # df/df\n",
    "    \n",
    "    # df/dnum\n",
    "    m['1'] = m['0'] * f['6'] # df/d1 = df/df * df/d1 \n",
    "    m['2'] = m['1'] * 1.0 # df/dx = df/df * df/d1 * d1/dx\n",
    "    m['3'] = m['1'] * 1.0 # df/d0 = df/df * df/d1 * d1/d0\n",
    "    m['4'] = m['3'] * 1.0 * (f['0'] * (1 - f['0'])) # df/dy = df/df * df/d1 * d1/d0 * d0/dy\n",
    "    \n",
    "    # df/ddom\n",
    "    m['5'] = m['0'] * f['1'] # df/d6 = df/df * df/d6\n",
    "    m['6'] = m['5'] * (-1.0 * (1.0 / f['5'] ** 2)) # df/d5 = df/df * df/d6 * d6/d5\n",
    "    m['7'] = m['6'] * 1.0  # df/d2 = df/df * df/d6 * d6/d5 * d5/d2\n",
    "    m['8'] = m['6'] * 1.0  # df/d4 = df/df * df/d6 * d6/d5 * d5/d4\n",
    "    m['9'] = m['7'] * (f['2'] * (1 - f['2']))  # df/dx = df/df * df/d6 * d6/d5 * d5/d2 * d2/dx\n",
    "    m['10'] = m['8'] * 2 * f['3'] # df/d3 = df/df * df/d6 * d6/d5 * d5/d4 * d4/d3\n",
    "    m['11'] = m['10'] * 1.0 # df/dx = df/df * df/d6 * d6/d5 * d5/d4 * d4/d3 * d3/dx\n",
    "    m['12'] = m['10'] * 1.0 # df/dy = df/df * df/d6 * d6/d5 * d5/d4 * d4/d3 * d3/dy\n",
    "    \n",
    "    # Add up results for df/dx and df/dy\n",
    "    m['13'] = m['2'] + m['9'] + m['11']\n",
    "    m['14'] = m['4'] + m['12']\n",
    "    \n",
    "    \n",
    "    return m\n",
    "\n",
    "evaluate_backward2 = backward2(x, y)\n",
    "print(evaluate_backward)"
   ]
  },
  {
   "cell_type": "code",
   "execution_count": 79,
   "metadata": {},
   "outputs": [
    {
     "name": "stdout",
     "output_type": "stream",
     "text": [
      "(-0.00590452834350471, -0.04233483196779766)\n"
     ]
    }
   ],
   "source": [
    "# Compute backward pass\n",
    "\n",
    "def backward3(x, y):\n",
    "    \n",
    "    f = forward(x, y)\n",
    "    m = {}\n",
    "    \n",
    "    m['0'] = 1.0 # df/df\n",
    "    \n",
    "    # df/dnum\n",
    "    m['1'] = m['0'] * dmult_left(f['1'], f['6']) # df/d1 = df/df * df/d1 \n",
    "    m['2'] = m['1'] * dadd(f['2'], f['4']) # df/dx = df/df * df/d1 * d1/dx\n",
    "    m['3'] = m['1'] * dadd(f['2'], f['4']) # df/d0 = df/df * df/d1 * d1/d0\n",
    "    m['4'] = m['3'] * dsigmoid(y) # df/dy = df/df * df/d1 * d1/d0 * d0/dy\n",
    "    \n",
    "    # df/ddom\n",
    "    m['5'] = m['0'] * dmult_right(f['1'], f['6']) # df/d6 = df/df * df/d6\n",
    "    m['6'] = m['5'] * ddivide(f['5']) # df/d5 = df/df * df/d6 * d6/d5\n",
    "    m['7'] = m['6'] * dadd(f['2'], f['4']) # df/d2 = df/df * df/d6 * d6/d5 * d5/d2\n",
    "    m['8'] = m['6'] * dadd(f['2'], f['4']) # df/d4 = df/df * df/d6 * d6/d5 * d5/d4\n",
    "    m['9'] = m['7'] * dsigmoid(x) # df/dx = df/df * df/d6 * d6/d5 * d5/d2 * d2/dx\n",
    "    m['10'] = m['8'] * dsquare(f['3']) # df/d3 = df/df * df/d6 * d6/d5 * d5/d4 * d4/d3\n",
    "    m['11'] = m['10'] * dadd(x, y) # df/dx = df/df * df/d6 * d6/d5 * d5/d4 * d4/d3 * d3/dx\n",
    "    m['12'] = m['10'] * dadd(x, y) # df/dy = df/df * df/d6 * d6/d5 * d5/d4 * d4/d3 * d3/dy\n",
    "    \n",
    "    # Add up results for df/dx and df/dy\n",
    "    m['13'] = m['2'] + m['9'] + m['11']\n",
    "    m['14'] = m['4'] + m['12']\n",
    "    \n",
    "    return m\n",
    "\n",
    "evaluate_backward3 = backward3(x, y)\n",
    "print(evaluate_backward)"
   ]
  },
  {
   "cell_type": "markdown",
   "metadata": {},
   "source": [
    "#### 2. Feed-forward Neural Network in Tensorflow"
   ]
  },
  {
   "cell_type": "markdown",
   "metadata": {},
   "source": [
    "## Assignment-6: Questions?"
   ]
  }
 ],
 "metadata": {
  "kernelspec": {
   "display_name": "Python 3",
   "language": "python",
   "name": "python3"
  },
  "language_info": {
   "codemirror_mode": {
    "name": "ipython",
    "version": 3
   },
   "file_extension": ".py",
   "mimetype": "text/x-python",
   "name": "python",
   "nbconvert_exporter": "python",
   "pygments_lexer": "ipython3",
   "version": "3.6.2"
  }
 },
 "nbformat": 4,
 "nbformat_minor": 2
}
