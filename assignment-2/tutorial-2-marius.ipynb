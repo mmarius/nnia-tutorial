{
 "cells": [
  {
   "cell_type": "markdown",
   "metadata": {},
   "source": [
    "# NNIA: Tutorial 2 - 21.11.2017"
   ]
  },
  {
   "cell_type": "code",
   "execution_count": 3,
   "metadata": {},
   "outputs": [
    {
     "data": {
      "text/html": [
       "<style>.container { width:100% !important; }</style>"
      ],
      "text/plain": [
       "<IPython.core.display.HTML object>"
      ]
     },
     "metadata": {},
     "output_type": "display_data"
    }
   ],
   "source": [
    "# Set notebook to full width\n",
    "from IPython.core.display import display, HTML\n",
    "display(HTML(\"<style>.container { width:100% !important; }</style>\"))"
   ]
  },
  {
   "cell_type": "markdown",
   "metadata": {},
   "source": [
    "## Organizational things\n",
    "### General\n",
    "* Please use correct **file names**, etc. We use automatic scripts to download and send you graded submissions back. If you don't follow the submission guidelines, then your homework can be lost.\n",
    "* Please send as a submission a **single .ipynb file**.\n",
    "* There is only **one exception** to this rule: **Images**.\n",
    "    * Use markown syntax to include the image in the notebook.\n",
    "    * Attach the image file to the email.\n",
    "* You can earn points for **attending tutorial** ($+2$ points max.) and for presenting solution ($+2 points$, max. $2$ times). But of course you can present more often if you want to.\n",
    "* The workload estimate for a usual sheet is 7-10 hours, based on the assumption that you work in teams.\n",
    "\n",
    "### 1. Quiz\n",
    "* Today!\n",
    "* 15 minutes, at the beginning of the lecture.\n",
    "* Please be on time."
   ]
  },
  {
   "cell_type": "markdown",
   "metadata": {},
   "source": [
    "----"
   ]
  },
  {
   "cell_type": "markdown",
   "metadata": {},
   "source": [
    "## Assignment-2"
   ]
  },
  {
   "cell_type": "markdown",
   "metadata": {},
   "source": [
    "#### 1. Linear Algebra\n",
    "- Orthogonal Vectors\n",
    "- Matrix Multiplication\n",
    "- Covariance Matrix\n",
    "- Eigendecomposition\n",
    "- Rayleigh-Ritz Principle"
   ]
  },
  {
   "cell_type": "markdown",
   "metadata": {},
   "source": [
    "#### 2. TensorFlow vs. Python\n",
    "- Question: What was the goal of this exercise?\n",
    "- Derivative"
   ]
  },
  {
   "cell_type": "markdown",
   "metadata": {},
   "source": [
    "---"
   ]
  },
  {
   "cell_type": "markdown",
   "metadata": {},
   "source": [
    "## [TensorFlow](https://www.tensorflow.org)"
   ]
  },
  {
   "cell_type": "markdown",
   "metadata": {},
   "source": [
    "#### 1. Overview"
   ]
  },
  {
   "cell_type": "markdown",
   "metadata": {},
   "source": [
    "<br/>\n",
    "![TensorFlow Search Trends](./search-trends.png)\n",
    "<br/>"
   ]
  },
  {
   "cell_type": "markdown",
   "metadata": {},
   "source": [
    "<br/>\n",
    "![TensorFlow Github](./tensorflow-github.png)\n",
    "<br/>"
   ]
  },
  {
   "cell_type": "markdown",
   "metadata": {},
   "source": [
    "#### 2. Some of it's features"
   ]
  },
  {
   "cell_type": "markdown",
   "metadata": {},
   "source": [
    "- Python API\n",
    "- Well documented API + Tutorials + [Model Zoo](https://github.com/tensorflow/models)\n",
    "- Great visualization support: **TensorBoard**\n",
    "- Automatic differentiation\n",
    "- Very large community\n",
    "- Active development and implementation of new features: TensorFlow Fold, Eager Mode, Data API, etc."
   ]
  },
  {
   "cell_type": "markdown",
   "metadata": {},
   "source": [
    "#### 2. Computation Graphs\n",
    "- TensorFlow builds up a **static** computation graph. Later on this graph is evaluated within a Session.\n",
    "- Decision for static graphs was to some extend motivated by efficiency and optimization reasons.\n",
    "- A computational graph can be optimized and run in parallel in the target GPU for example.\n",
    "- However, when using **RNNs**, a priori fixed input length might be a problem.\n",
    "- Also, this makes debugging not so easy.\n",
    "- To the resuce: [TensorFlow Fold](https://research.googleblog.com/2017/02/announcing-tensorflow-fold-deep.html), [TensorFlow Eager Mode](https://research.googleblog.com/2017/10/eager-execution-imperative-define-by.html)"
   ]
  },
  {
   "cell_type": "markdown",
   "metadata": {},
   "source": [
    "#### 3. Automatic Differentiation\n",
    "- Numeric differentiation:\n",
    "$ f'(x) = \\lim\\limits_{h \\to \\infty} \\frac{f(x + h) - f(x)}{h} $\n",
    "- Symbolic differentiation: The *do it by hand according to rules of calculus* way.\n",
    "- Automatic differentiation: **Reverse-Mode Automatic Differentiation**\n",
    "    - Function that one want's to differentiate is decomposed into primitive expressions.\n",
    "    - Forward pass: For a particular set of inputs the primitive expressions are evaluated step-by-step.\n",
    "    - Backward pass: Derivatives of the primitive expressions are know. Starting from the end, all (partial) derivatives are computed by applying chain-rule.\n",
    "    - For a great example see: https://stats.stackexchange.com/questions/224140/step-by-step-example-of-reverse-mode-automatic-differentiation\n",
    "- Won't go into too much detail today.\n",
    "- We will see this in full detail later on when talking about **back-propagation**.\n",
    "- **For now**: Automatic differentiation is very different from numeric differentiation or symbolic differentiation."
   ]
  },
  {
   "cell_type": "markdown",
   "metadata": {},
   "source": [
    "#### 4. TensorBoard"
   ]
  },
  {
   "cell_type": "markdown",
   "metadata": {},
   "source": [
    "Live Demo!"
   ]
  },
  {
   "cell_type": "markdown",
   "metadata": {},
   "source": [
    "----"
   ]
  },
  {
   "cell_type": "markdown",
   "metadata": {},
   "source": [
    "## Assignment-3: Questions?"
   ]
  }
 ],
 "metadata": {
  "kernelspec": {
   "display_name": "Python 3",
   "language": "python",
   "name": "python3"
  },
  "language_info": {
   "codemirror_mode": {
    "name": "ipython",
    "version": 3
   },
   "file_extension": ".py",
   "mimetype": "text/x-python",
   "name": "python",
   "nbconvert_exporter": "python",
   "pygments_lexer": "ipython3",
   "version": "3.6.2"
  }
 },
 "nbformat": 4,
 "nbformat_minor": 2
}
