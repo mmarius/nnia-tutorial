{
 "cells": [
  {
   "cell_type": "markdown",
   "metadata": {},
   "source": [
    "# NNIA: Tutorial 6 - 19.12.2017"
   ]
  },
  {
   "cell_type": "markdown",
   "metadata": {},
   "source": [
    "---"
   ]
  },
  {
   "cell_type": "code",
   "execution_count": 1,
   "metadata": {},
   "outputs": [
    {
     "data": {
      "text/html": [
       "<style>.container { width:100% !important; }</style>"
      ],
      "text/plain": [
       "<IPython.core.display.HTML object>"
      ]
     },
     "metadata": {},
     "output_type": "display_data"
    }
   ],
   "source": [
    "# Set notebook to full width\n",
    "from IPython.core.display import display, HTML\n",
    "display(HTML(\"<style>.container { width:100% !important; }</style>\"))"
   ]
  },
  {
   "cell_type": "markdown",
   "metadata": {},
   "source": [
    "## Quiz 2"
   ]
  },
  {
   "cell_type": "markdown",
   "metadata": {},
   "source": [
    "- [Model capacity](https://cbmm.mit.edu/sites/default/files/publications/CBMM-Memo-067.pdf)\n",
    "- Loss functions\n",
    "- Hidden units\n",
    "- Regularization\n",
    "- Backprop"
   ]
  },
  {
   "cell_type": "markdown",
   "metadata": {},
   "source": [
    "$1)$ Model capacity"
   ]
  },
  {
   "cell_type": "markdown",
   "metadata": {},
   "source": [
    "![Model Capacity](./model-capacity.png)"
   ]
  },
  {
   "cell_type": "markdown",
   "metadata": {},
   "source": [
    "Source: [Deep Learning - Goodfellow et al.](http://www.deeplearningbook.org/)"
   ]
  },
  {
   "cell_type": "markdown",
   "metadata": {},
   "source": [
    "$2)$ Loss functions"
   ]
  },
  {
   "cell_type": "markdown",
   "metadata": {},
   "source": [
    "$$MSE = \\mathcal{J}(\\theta) = \\sum_{i=0}^m (y_i - \\hat{y}_i)^2 = \\sum_{i=0}^m (y_i - f(x_i; \\theta))^2$$ "
   ]
  },
  {
   "cell_type": "markdown",
   "metadata": {},
   "source": [
    "$$CE = \\mathcal{J}(\\theta) = - \\mathbb{E}_{\\mathbf{x}, \\mathbf{y} \\sim \\hat{p}_{data}} [log~p_{model} (\\mathbf{y} \\mid \\mathbf{x})]$$"
   ]
  },
  {
   "cell_type": "markdown",
   "metadata": {},
   "source": [
    "Depending on the actual model the specific form of $log ~\n",
    " p_{model} (\\mathbf{y} \\mid \\mathbf{x})$ changes."
   ]
  },
  {
   "cell_type": "markdown",
   "metadata": {},
   "source": [
    "**Different viewpoint**:\n",
    "$$ \\mathcal{H}(p, q) = - \\sum_{x} p(x) ~ log ~ q(x) $$"
   ]
  },
  {
   "cell_type": "markdown",
   "metadata": {},
   "source": [
    "### I will try to prepare an additional tutorial on this topic before the exam. Because this is really important to understand. Please send me an email in case you are interested."
   ]
  },
  {
   "cell_type": "markdown",
   "metadata": {},
   "source": [
    "$3)$ Hidden units"
   ]
  },
  {
   "cell_type": "markdown",
   "metadata": {},
   "source": [
    "$$\\sigma(x) = \\frac{1}{1 + \\exp(-x)}$$"
   ]
  },
  {
   "cell_type": "markdown",
   "metadata": {},
   "source": [
    "$$relu(x) = \\max\\{0, x\\} =\n",
    "\\begin{cases}\n",
    "0,  & \\text{if $x \\leq 0$} \\\\\n",
    "x, & \\text{else}\n",
    "\\end{cases}$$"
   ]
  },
  {
   "cell_type": "code",
   "execution_count": 10,
   "metadata": {
    "collapsed": true
   },
   "outputs": [],
   "source": [
    "import numpy as np\n",
    "\n",
    "xs = np.linspace(-5, 5, 1000)\n",
    "\n",
    "def relu(x):\n",
    "    return np.maximum(0, x)"
   ]
  },
  {
   "cell_type": "code",
   "execution_count": 12,
   "metadata": {},
   "outputs": [
    {
     "data": {
      "image/png": "[encoded data removed]",
      "text/plain": [
       "<matplotlib.figure.Figure at 0x7fb9892836d8>"
      ]
     },
     "metadata": {},
     "output_type": "display_data"
    }
   ],
   "source": [
    "%matplotlib inline\n",
    "import matplotlib.pyplot as plt\n",
    "\n",
    "plt.plot(xs, relu(xs), label='ReLu activation function')\n",
    "plt.legend();"
   ]
  },
  {
   "cell_type": "code",
   "execution_count": 18,
   "metadata": {},
   "outputs": [
    {
     "name": "stdout",
     "output_type": "stream",
     "text": [
      "0.0\n"
     ]
    }
   ],
   "source": [
    "import tensorflow as tf\n",
    "\n",
    "isess = tf.InteractiveSession()\n",
    "x = tf.constant(0.0)\n",
    "r = tf.nn.relu(x)\n",
    "print(r.eval())\n",
    "isess.close()"
   ]
  },
  {
   "cell_type": "markdown",
   "metadata": {},
   "source": [
    "$4)$ Regularization"
   ]
  },
  {
   "cell_type": "markdown",
   "metadata": {},
   "source": [
    "$$\\mathcal{R}_1 = \\lambda * \\lVert w \\rVert_2^2$$"
   ]
  },
  {
   "cell_type": "markdown",
   "metadata": {},
   "source": [
    "$$\\mathcal{R}_2 = \\lambda * \\lVert w \\rVert_1$$"
   ]
  },
  {
   "cell_type": "markdown",
   "metadata": {},
   "source": [
    "$$\\nabla_w \\mathcal{R}_1 = \\lambda 2w$$"
   ]
  },
  {
   "cell_type": "markdown",
   "metadata": {},
   "source": [
    "$$\\nabla_w \\mathcal{R}_2 = \\lambda * sign(w)$$"
   ]
  },
  {
   "cell_type": "markdown",
   "metadata": {},
   "source": [
    "$5)$ Backprop"
   ]
  },
  {
   "cell_type": "markdown",
   "metadata": {},
   "source": [
    "![Backprop](./backprop.png)"
   ]
  },
  {
   "cell_type": "markdown",
   "metadata": {},
   "source": [
    "---"
   ]
  },
  {
   "cell_type": "markdown",
   "metadata": {},
   "source": [
    "## Assignment-6"
   ]
  },
  {
   "cell_type": "markdown",
   "metadata": {},
   "source": [
    "#### 1. Regularization methods in ML"
   ]
  },
  {
   "cell_type": "markdown",
   "metadata": {},
   "source": [
    "---"
   ]
  },
  {
   "cell_type": "markdown",
   "metadata": {},
   "source": [
    "#### 2. Impact of different norms"
   ]
  },
  {
   "cell_type": "markdown",
   "metadata": {},
   "source": [
    "![Unit spheres](https://upload.wikimedia.org/wikipedia/commons/thumb/d/d4/Vector-p-Norms_qtl1.svg/820px-Vector-p-Norms_qtl1.svg.png)"
   ]
  },
  {
   "cell_type": "markdown",
   "metadata": {},
   "source": [
    "*Source: https://de.wikipedia.org/wiki/Datei:Vector-p-Norms_qtl1.svg*"
   ]
  },
  {
   "cell_type": "code",
   "execution_count": 42,
   "metadata": {},
   "outputs": [
    {
     "data": {
      "image/png": "[encoded data removed]",
      "text/plain": [
       "<matplotlib.figure.Figure at 0x12e27bd30>"
      ]
     },
     "metadata": {},
     "output_type": "display_data"
    }
   ],
   "source": [
    "%matplotlib inline\n",
    "import numpy as np\n",
    "import matplotlib.pyplot as plt\n",
    "nsamples = 1001\n",
    "interval = np.linspace(-1.5, 1.5, num=nsamples)\n",
    "x, y = np.meshgrid(interval, interval)\n",
    "\n",
    "def l0_norm(x1, x2):\n",
    "    return np.count_nonzero([x1, x2])\n",
    "\n",
    "def l1_norm(x1, x2):\n",
    "    return np.abs(x1) + np.abs(x2)\n",
    "\n",
    "def l2_norm(x1, x2):\n",
    "    return np.sqrt(np.square(x1) + np.square(x2))\n",
    "\n",
    "def inf_norm(x1, x2):\n",
    "    z = np.array([x1, x2])\n",
    "    return np.max(np.abs(z))\n",
    "\n",
    "fig, axes = plt.subplots(nrows= 2, ncols=2, figsize=(10,10))\n",
    "\n",
    "# L0 norm\n",
    "l0_norm = np.vectorize(l0_norm)\n",
    "z = l0_norm(x, y)\n",
    "cs = axes[0, 0].contour(x, y, z, levels=[0, 0.25, 0.5, 0.75, 1], cmap='rainbow')\n",
    "axes[0, 0].clabel(cs, inline=1, fontsize=9)\n",
    "axes[0, 0].set_title('$L0$-Norm')\n",
    "\n",
    "# L1 norm\n",
    "z = l1_norm(x, y)\n",
    "cs = axes[0, 1].contour(x, y, z, levels=[0, 0.25, 0.5, 0.75, 1], cmap='rainbow')\n",
    "axes[0, 1].clabel(cs, inline=1, fontsize=9)\n",
    "axes[0, 1].set_title('$L1$-Norm')\n",
    "\n",
    "# L2 norm\n",
    "z = l2_norm(x, y)\n",
    "cs = axes[1, 0].contour(x, y, z, levels=[0, 0.25, 0.5, 0.75, 1], cmap='rainbow')\n",
    "axes[1, 0].clabel(cs, inline=1, fontsize=9)\n",
    "axes[1, 0].set_title('$L2$-Norm')\n",
    "\n",
    "# Linf norm\n",
    "inf_norm = np.vectorize(inf_norm)\n",
    "z = inf_norm(x, y)\n",
    "cs = axes[1, 1].contour(x, y, z, levels=[0, 0.25, 0.5, 0.75, 1], cmap='rainbow')\n",
    "axes[1, 1].clabel(cs, inline=1, fontsize=9)\n",
    "axes[1, 1].set_title('$Linf$-Norm');"
   ]
  },
  {
   "cell_type": "code",
   "execution_count": 1,
   "metadata": {},
   "outputs": [
    {
     "data": {
      "text/html": [
       "\n",
       "        <iframe\n",
       "            width=\"1200\"\n",
       "            height=\"600\"\n",
       "            src=\"http://www-bcf.usc.edu/~gareth/ISL/Chapter6/6.7.pdf\"\n",
       "            frameborder=\"0\"\n",
       "            allowfullscreen\n",
       "        ></iframe>\n",
       "        "
      ],
      "text/plain": [
       "<IPython.lib.display.IFrame at 0x10feb8be0>"
      ]
     },
     "execution_count": 1,
     "metadata": {},
     "output_type": "execute_result"
    }
   ],
   "source": [
    "from IPython.display import IFrame\n",
    "IFrame(\"http://www-bcf.usc.edu/~gareth/ISL/Chapter6/6.7.pdf\", width=1200, height=600)"
   ]
  },
  {
   "cell_type": "markdown",
   "metadata": {},
   "source": [
    "*Source: http://www-bcf.usc.edu/~gareth/ISL/data.html*"
   ]
  },
  {
   "cell_type": "markdown",
   "metadata": {},
   "source": [
    "In case you are intrested in more details please check [Deep Learning Book - Chapter 7.1.1](http://www.deeplearningbook.org/contents/regularization.html)"
   ]
  },
  {
   "cell_type": "markdown",
   "metadata": {},
   "source": [
    "---"
   ]
  },
  {
   "cell_type": "markdown",
   "metadata": {},
   "source": [
    "#### 3. Backprop"
   ]
  },
  {
   "cell_type": "markdown",
   "metadata": {},
   "source": [
    "![Detailed NN](https://i.stack.imgur.com/76Kuo.png)"
   ]
  },
  {
   "cell_type": "markdown",
   "metadata": {},
   "source": [
    "*Source: https://stats.stackexchange.com/questions/154879/a-list-of-cost-functions-used-in-neural-networks-alongside-applications/154880#154880*"
   ]
  },
  {
   "cell_type": "markdown",
   "metadata": {},
   "source": [
    "[Verify at home!](http://neuralnetworksanddeeplearning.com/chap2.html)"
   ]
  },
  {
   "cell_type": "markdown",
   "metadata": {},
   "source": [
    "---"
   ]
  },
  {
   "cell_type": "markdown",
   "metadata": {},
   "source": [
    "#### 4. Feed-forward neural net in python"
   ]
  },
  {
   "cell_type": "markdown",
   "metadata": {},
   "source": [
    "[Example](https://github.com/mnielsen/neural-networks-and-deep-learning/blob/master/src/network.py)"
   ]
  },
  {
   "cell_type": "markdown",
   "metadata": {},
   "source": [
    "I encourage you to do practice this during the christmas break. In case you have any questions regarding the implementation just send me an email."
   ]
  },
  {
   "cell_type": "markdown",
   "metadata": {},
   "source": [
    "---"
   ]
  }
 ],
 "metadata": {
  "kernelspec": {
   "display_name": "Python 3",
   "language": "python",
   "name": "python3"
  },
  "language_info": {
   "codemirror_mode": {
    "name": "ipython",
    "version": 3
   },
   "file_extension": ".py",
   "mimetype": "text/x-python",
   "name": "python",
   "nbconvert_exporter": "python",
   "pygments_lexer": "ipython3",
   "version": "3.6.2"
  }
 },
 "nbformat": 4,
 "nbformat_minor": 2
}
