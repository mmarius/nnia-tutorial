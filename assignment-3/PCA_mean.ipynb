{
 "cells": [
  {
   "cell_type": "markdown",
   "metadata": {},
   "source": [
    "# PCA mean substraction"
   ]
  },
  {
   "cell_type": "code",
   "execution_count": 76,
   "metadata": {},
   "outputs": [],
   "source": [
    "import numpy as np\n",
    "\n",
    "# Create some data points in 2D\n",
    "p1 = np.asarray([2, 1])\n",
    "p2 = np.asarray([3, 2])\n",
    "p3 = np.asarray([4, 1])"
   ]
  },
  {
   "cell_type": "code",
   "execution_count": 77,
   "metadata": {},
   "outputs": [
    {
     "name": "stdout",
     "output_type": "stream",
     "text": [
      "(3, 2)\n",
      "[[2 1]\n",
      " [3 2]\n",
      " [4 1]]\n"
     ]
    }
   ],
   "source": [
    "# Create data matrix\n",
    "P = np.stack([p1, p2, p3], axis=0)\n",
    "print(P.shape)\n",
    "print(P)"
   ]
  },
  {
   "cell_type": "code",
   "execution_count": 78,
   "metadata": {},
   "outputs": [
    {
     "data": {
      "image/png": "[encoded data removed]",
      "text/plain": [
       "<matplotlib.figure.Figure at 0x7fce04ee6b00>"
      ]
     },
     "metadata": {},
     "output_type": "display_data"
    }
   ],
   "source": [
    "# Let's plot the data\n",
    "%matplotlib inline\n",
    "import matplotlib.pyplot as plt\n",
    "\n",
    "fig, axes = plt.subplots()\n",
    "# plot coordinate system\n",
    "axes.axhline(0, ls='--', linewidth=0.5)\n",
    "axes.axvline(0, ls='--', linewidth=0.5)\n",
    "axes.set_xlim(-5.0, 5.0)\n",
    "axes.set_ylim(-3.0, 3.0)\n",
    "# Plot data points\n",
    "plt.scatter(P[:, 0], P[:, 1]);"
   ]
  },
  {
   "cell_type": "code",
   "execution_count": 79,
   "metadata": {},
   "outputs": [
    {
     "name": "stdout",
     "output_type": "stream",
     "text": [
      "[[ 1.5]\n",
      " [ 2.5]\n",
      " [ 2.5]]\n"
     ]
    }
   ],
   "source": [
    "# Compute row means\n",
    "rms = np.mean(P, axis=1)\n",
    "rms = np.reshape(rms, newshape=(3, 1))\n",
    "print(rms)"
   ]
  },
  {
   "cell_type": "code",
   "execution_count": 80,
   "metadata": {},
   "outputs": [
    {
     "name": "stdout",
     "output_type": "stream",
     "text": [
      "[ 3.          1.33333333]\n"
     ]
    }
   ],
   "source": [
    "# Compute column means\n",
    "cms = np.mean(P, axis=0)\n",
    "print(cms)"
   ]
  },
  {
   "cell_type": "code",
   "execution_count": 81,
   "metadata": {},
   "outputs": [
    {
     "name": "stdout",
     "output_type": "stream",
     "text": [
      "[[ 0.5 -0.5]\n",
      " [ 0.5 -0.5]\n",
      " [ 1.5 -1.5]]\n"
     ]
    }
   ],
   "source": [
    "# Let's substract the row means from the rows\n",
    "P_rms = P - rms\n",
    "print(P_rms)"
   ]
  },
  {
   "cell_type": "code",
   "execution_count": 82,
   "metadata": {},
   "outputs": [
    {
     "data": {
      "image/png": "[encoded data removed]",
      "text/plain": [
       "<matplotlib.figure.Figure at 0x7fce04d453c8>"
      ]
     },
     "metadata": {},
     "output_type": "display_data"
    }
   ],
   "source": [
    "# Plot the data together with the original data points\n",
    "fig, axes = plt.subplots()\n",
    "# plot coordinate system\n",
    "axes.axhline(0, ls='--', linewidth=0.5)\n",
    "axes.axvline(0, ls='--', linewidth=0.5)\n",
    "axes.set_xlim(-5.0, 5.0)\n",
    "axes.set_ylim(-3.0, 3.0)\n",
    "# Plot data points\n",
    "plt.scatter(P[:, 0], P[:, 1], label='original data')\n",
    "plt.scatter(P_rms[:, 0], P_rms[:, 1], marker='x', label='row means substracted')\n",
    "plt.legend();"
   ]
  },
  {
   "cell_type": "code",
   "execution_count": 83,
   "metadata": {},
   "outputs": [
    {
     "name": "stdout",
     "output_type": "stream",
     "text": [
      "[[-1.         -0.33333333]\n",
      " [ 0.          0.66666667]\n",
      " [ 1.         -0.33333333]]\n"
     ]
    }
   ],
   "source": [
    "# Let's do the same for the column means\n",
    "P_cms = P - cms\n",
    "print(P_cms)"
   ]
  },
  {
   "cell_type": "code",
   "execution_count": 84,
   "metadata": {},
   "outputs": [
    {
     "data": {
      "image/png": "[encoded data removed]",
      "text/plain": [
       "<matplotlib.figure.Figure at 0x7fce04c4e438>"
      ]
     },
     "metadata": {},
     "output_type": "display_data"
    }
   ],
   "source": [
    "# Plot the data together with the original data points and the -row means data\n",
    "fig, axes = plt.subplots()\n",
    "# plot coordinate system\n",
    "axes.axhline(0, ls='--', linewidth=0.5)\n",
    "axes.axvline(0, ls='--', linewidth=0.5)\n",
    "axes.set_xlim(-5.0, 5.0)\n",
    "axes.set_ylim(-3.0, 3.0)\n",
    "# Plot data points\n",
    "plt.scatter(P[:, 0], P[:, 1], label='original data')\n",
    "plt.scatter(P_rms[:, 0], P_rms[:, 1], marker='x', label='row means substracted')\n",
    "plt.scatter(P_cms[:, 0], P_cms[:, 1], marker='X', label='column means substracted')\n",
    "plt.legend();"
   ]
  }
 ],
 "metadata": {
  "kernelspec": {
   "display_name": "Python 3",
   "language": "python",
   "name": "python3"
  },
  "language_info": {
   "codemirror_mode": {
    "name": "ipython",
    "version": 3
   },
   "file_extension": ".py",
   "mimetype": "text/x-python",
   "name": "python",
   "nbconvert_exporter": "python",
   "pygments_lexer": "ipython3",
   "version": "3.6.2"
  }
 },
 "nbformat": 4,
 "nbformat_minor": 2
}
